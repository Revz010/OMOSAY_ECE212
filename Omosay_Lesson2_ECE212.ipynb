{
 "cells": [
  {
   "cell_type": "markdown",
   "metadata": {},
   "source": [
    "##### Name: Omosay, Kim Revo O.\n",
    "##### Year and Section: BSECE 2-1\n",
    "##### Subject/Course: ECE 212 - Fundamentals of Scientific Computing\n"
   ]
  },
  {
   "cell_type": "markdown",
   "metadata": {},
   "source": [
    "# Module 1 Scientific Computing Basics"
   ]
  },
  {
   "cell_type": "markdown",
   "metadata": {},
   "source": [
    "## Lesson 2: Values and Data Types"
   ]
  },
  {
   "cell_type": "markdown",
   "metadata": {},
   "source": [
    "### Introduction\n",
    "\n",
    "This chapter introduces several basic building blocks of Python programs:\n",
    "    \n",
    "   * literals, like numbers and character strings\n",
    "   * operators, like + and *\n",
    "   * function calls, which take values as inputs and compute new values\n",
    "   * variables, which save values so they can be used later in the program\n",
    "   \n",
    "These are the basic building blocks that are assembled to create programs that you interact with everyday—from the software running on your smartwatch, to the infrastructure behind the largest websites, and every app running on your phone."
   ]
  },
  {
   "cell_type": "markdown",
   "metadata": {},
   "source": [
    "## Activity\n",
    "\n",
    "Check\tyour\tunderstanding from\tprevious\tlesson\t:\n",
    "\n",
    "#### 1. An\talgorithm\tis:\n",
    "\n",
    "   A. A\tsolution\tto\ta\tproblem\tthat\tcan\tbe\tsolved\tby\ta\tcomputer \n",
    "   \n",
    "   B. A\tstep\tby\tstep\tsequence\tof\tinstructions\tthat\tif\tfollowed\texactly\twill\tsolve\tthe\tproblem\tunder consideration.\n",
    "   \n",
    "   C. A\tseries\tof\tinstructions\timplemented\tin\ta\tprogramming\tlanguage.\n",
    "\n",
    "   D. A\tspecial\tkind\tof\tnotation\tused\tby\tprogrammers.\n",
    "\n",
    "##### Answer: B\n",
    "\n",
    "#### 2.  Source\tcode\tis\tanother\tname\tfor:\n",
    "\n",
    "    A.\tthe\tinstructions\tin\ta\tprogram,\twritten\tin\ta\thigh-level\tlanguage.\n",
    "    \n",
    "    B.\tthe\tlanguage\tthat\tyou\tare\tprogramming\tin\t(e.g.,\tPython).\n",
    "    \n",
    "    C.\tthe\tenvironment/tool\tin\twhich\tyou\tare\tprogramming.\n",
    "    \n",
    "    D.\tthe\tnumber\t(or\t“code”)\tthat\tyou\tmust\tinput\tat the\ttop\tof\teach\tprogram\tto\ttell the\tcomputer\thow\tto\texecute\tyour\tprogram.\n",
    "    \n",
    "##### Answer: A\n",
    "    \n",
    "#### 3. What\tis\t the\t difference\t between\t a\t high-level\t programming\tlanguage\t and\t a\tlow-level\tprogramming\tlanguage?\n",
    "    \n",
    "    A.\tIt\tis\thigh-level\tif\tyou\tare\tstanding\tand\tlow-level\tif\tyou\tare\tsitting.\n",
    "    \n",
    "    B.\tIt\tis\thigh-level\tif\tyou\tare\tprogramming\tfor\ta\tcomputer\tand\tlow-level\tif\tyou\tare\tprogramming\tfor\ta\tphone\tor\tmobile\tdevice.\n",
    "    \n",
    "    C.\tIt\tis\thigh-level\tif\tthe\tprogram\tmust\tbe\tprocessed\tbefore\tit\tcan\trun,\tand\tlowlevel\tif\tthe\tcomputer\tcan\texecute\tit\twithout\tadditional\tprocessing.\n",
    "    \n",
    "    D.\tIt\tis\thigh-level\tif\tit\teasy\tto\tprogram\tin\tand\tis\tvery\tshort;\tit\tis\tlow-level\tif\tit\tis\treally\thard\tto\tprogram\tin\tand\tthe\tprograms\tare\treally\tlong.\n",
    "    \n",
    "##### Answer: C\n",
    "    \n",
    "#### 4. Pick\tthe\tbest\treplacements\tfor\t1\tand\t2\tin\tthe\tfollowing\tsentence:\tWhen\tcomparing\tcompilers\tand\tinterpreters,\ta\tcompiler\tis\tlike\t1\twhile\tan\tinterpreter\tis\tlike\t2.\n",
    "\n",
    "    A.\t1\t=\ta\tprocess,\t2\t=\ta\tfunction\n",
    "\n",
    "    B.\t1\t=\ttranslating\tan\tentire\tbook,\t2\t=\ttranslating\ta\tline\tat\ta\ttime\n",
    "\n",
    "    C.\t1\t=\tsoftware,\t2\t=\thardware\n",
    "\n",
    "    D.\t1\t=\tobject\tcode,\t2\t=\tbyte\tcode\n",
    "\n",
    "##### Answer: B\n",
    "\n",
    "#### 5. The\tactivecode\tinterpreter\tallows\tyou\tto\t(select\tall\tthat\tapply):\n",
    "\n",
    "    A.\tsave\tprograms\tand\treload\tsaved\tprograms.\n",
    "\n",
    "    B.\ttype\tin\tPython\tsource\tcode.\n",
    "\n",
    "    C.\texecute\tPython\tcode\tright\tin\tthe\ttext\titself\twithin\tthe\tweb\tbrowser.\n",
    "\n",
    "    D.\treceive\ta\tyes/no\tanswer\tabout\twhether\tyour\tcode\tis\tcorrect\tor\tnot.\n",
    "    \n",
    "##### Answer: A, B, C\n",
    "    \n",
    "#### 6. Codelens\tallows\tyou\tto\t(select\tall\tthat\tapply):\n",
    "\n",
    "    A.\tmeasure\tthe\tspeed\tof\ta\tprogram’s\texecution.\n",
    "\n",
    "    B.\tcontrol\tthe\tstep\tby\tstep\texecution\tof\ta\tprogram.\n",
    "\n",
    "    C.\twrite\tand\texecute\tyour\town\tPython\tcode.\n",
    "\n",
    "    D.\texecute\tthe\tPython\tcode\tthat\tis\tin\tcodelens.\n",
    "\n",
    "##### Answer: B, D\n",
    "\n",
    "#### 7. A\tprogram\tis:\n",
    "\n",
    "    A.\ta\tsequence\tof\tinstructions\tthat\tspecifies\thow\tto\tperform\ta\tcomputation.\n",
    "\n",
    "    B.\tsomething\tyou\tfollow\talong\tat\ta\tplay\tor\tconcert.\n",
    "\n",
    "    C.\ta\tcomputation,\teven\ta\tsymbolic\tcomputation.\n",
    "\n",
    "    D.\tthe\tsame\tthing\tas\tan\talgorithm.\n",
    "    \n",
    "##### Answer: A\n",
    "    \n",
    "#### 8. The\tdifferences\tbetween\tnatural\tand\tformal\tlanguages\tinclude:\n",
    "\n",
    "    A.\tnatural\tlanguages\tcan\tbe\tparsed\twhile\tformal\tlanguages\tcannot.\n",
    "    \n",
    "    B.\tambiguity,\tredundancy,\tand\tliteralness.\n",
    "    \n",
    "    C.\tthere\tare\tno\tdifferences\tbetween\tnatural\tand\tformal\tlanguages.\n",
    "    \n",
    "    D.\ttokens,\tstructure,\tsyntax,\tand\tsemantics.\n",
    "    \n",
    "##### Answer: B\n",
    "    \n",
    "#### 9. True\tor\tFalse:\tReading\ta\tprogram\tis\tlike\treading\tother\tkinds\tof\ttext.\n",
    "\n",
    "    A.\tTrue\n",
    "    \n",
    "    B.\tFalse\n",
    "    \n",
    "##### Answer: B\n",
    "    \n",
    "#### 10. The\tprint\tfunction:\n",
    "\n",
    "    A.\tsends\tinformation\tto\tthe\tprinter\tto\tbe\tprinted\ton\tpaper.\n",
    "    \n",
    "    B.\tdisplays\ta\tvalue\ton\tthe\tscreen.\n",
    "    \n",
    "    C.\ttells\tthe\tcomputer\tto\tput\tthe\tinformation\tin\tprint,\trather\tthan\tcursive,\tformat.\n",
    "    \n",
    "    D.\ttells\tthe\tcomputer\tto\tspeak\tthe\tinformation.\n",
    "    \n",
    "##### Answer: B"
   ]
  },
  {
   "cell_type": "markdown",
   "metadata": {},
   "source": [
    "## *Application*:"
   ]
  },
  {
   "cell_type": "markdown",
   "metadata": {},
   "source": [
    "Distance Between Two Points on Earth (27 Lines)\n",
    "    \n",
    "The surface of the Earth is curved, and the distance between degrees of longitude varies with latitude. As a result, finding the distance between two points on the surface of the Earth is more complicated than simply using the Pythagorean theorem. Let (t1, g1) and (t2, g2) be the latitude and longitude of two points on the Earth’s surface. The distance between these points, following the surface of the Earth, in kilometers is:\n",
    "\n",
    "    distance = 6371.01 × arccos(sin(t1) × sin(t2) + cos(t1) × cos(t2) × cos(g1 − g2))\n",
    "    \n",
    "The value 6371.01 in the previous equation wasn’t selected at random. It's the average radius of the Earth in kilometers"
   ]
  },
  {
   "cell_type": "code",
   "execution_count": 3,
   "metadata": {},
   "outputs": [
    {
     "name": "stdout",
     "output_type": "stream",
     "text": [
      "Enter lattitude of point1: 1\n",
      "Enter longitude of point1: 2\n",
      "Enter lattitude of point2: 3\n",
      "Enter longitude of point2: 4\n",
      "The distance between two points is 14751.69 kms\n"
     ]
    }
   ],
   "source": [
    "    import math\n",
    "    #Function to calculate distance\n",
    "    def calcDistance(lat1,long1,lat2,long2):\n",
    "     return  6371.01*math.acos(math.sin(lat1) *math.sin(lat2) +math.cos(lat1)*math.cos(lat2)*math.cos(long1-long2))\n",
    "    #Function to convert degree to radian\n",
    "    def convertRadians(val):\n",
    "     return val*0.01745329252\n",
    "    #Main function\n",
    "    def main():\n",
    "    #Prompt for latitude ang longitude of point1\n",
    "        lattitude1=(float(input(\"Enter lattitude of point1: \")))\n",
    "        longitude1=(float(input(\"Enter longitude of point1: \")))\n",
    "    #Prompt for latitude ang longitude of point2\n",
    "        lattitude2=(float(input(\"Enter lattitude of point2: \")))\n",
    "        longitude2=(float(input(\"Enter longitude of point2: \")))\n",
    "    #Get radian values\n",
    "        lattitude1=convertRadians(lattitude1)\n",
    "        longitude1=convertRadians(longitude1)\n",
    "        lattitude2=convertRadians(lattitude2)\n",
    "        longittude2=convertRadians(longitude2)\n",
    "    #Display result\n",
    "        print('The distance between two points is %.2f kms'%calcDistance(lattitude1,longitude1,lattitude2,longitude2))\n",
    "    #program starts here\n",
    "    if __name__==\"__main__\":\n",
    "     main()"
   ]
  },
  {
   "cell_type": "code",
   "execution_count": null,
   "metadata": {},
   "outputs": [],
   "source": []
  }
 ],
 "metadata": {
  "kernelspec": {
   "display_name": "Python 3",
   "language": "python",
   "name": "python3"
  },
  "language_info": {
   "codemirror_mode": {
    "name": "ipython",
    "version": 3
   },
   "file_extension": ".py",
   "mimetype": "text/x-python",
   "name": "python",
   "nbconvert_exporter": "python",
   "pygments_lexer": "ipython3",
   "version": "3.7.0"
  }
 },
 "nbformat": 4,
 "nbformat_minor": 4
}
