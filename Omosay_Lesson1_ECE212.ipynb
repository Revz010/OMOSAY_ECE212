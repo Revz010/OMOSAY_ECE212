{
 "cells": [
  {
   "cell_type": "markdown",
   "metadata": {},
   "source": [
    "##### Name: Omosay, Kim Revo O.\n",
    "##### Year and Section: BSECE 2-1\n",
    "##### Subject/Course: ECE 212 - Fundamentals of Scientific Computing\n"
   ]
  },
  {
   "cell_type": "markdown",
   "metadata": {},
   "source": [
    "# Module 1 Scientific Computing Basics"
   ]
  },
  {
   "cell_type": "markdown",
   "metadata": {},
   "source": [
    "## Lesson 1: The Way of the Programming\n"
   ]
  },
  {
   "cell_type": "markdown",
   "metadata": {},
   "source": [
    "### Introduction\n",
    "\n",
    "The goal of this course pack is to teach you to understand and create computer programs in Python. At the beginning of each chapter, we will outline for you the learning goals and objectives that should be accomplished once you have gone through the chapter. \n",
    "\n",
    "Understanding computer programs requires algorithmic, mechanistic thinking. Programs specify mechanistic sequences of actions to perform; when executed, they transform input data into output data. They execute very reliably, and very fast, but not creatively. Computers do what you tell them to do, not what you mean for them to do. Thus, understanding computer code involves a lot of mental simulation of what will actually happen, not what you wish would happen. \n",
    "\n",
    "Writing computer programs requires not only mechanistic thinking but creative problem solving. Problem solving means the ability to formulate problems, think creatively about solutions, and express a solution clearly and accurately. As it turns out, the process of learning to program is an excellent opportunity to practice problem solving skills."
   ]
  },
  {
   "cell_type": "markdown",
   "metadata": {},
   "source": [
    "## Activity\n",
    "\n",
    "1. *Why\tdo\tyou\tthink\tuderstanding\tcomputer\tprograms\tis\trelevant\tin\tour\ttime\ttoday especially\tin\tthe\tnew\tnormal?*\n",
    "\n",
    "    * In our tim today, we can't live without our phones, computer and internet. These things were made and is functioning because of computer programs. Understanding computer programs helps us to know how they work and also how they were applied in our gadgets. \n",
    "    \n",
    "2. *If\tyou\twere\table\tto\tlearn\tcomputer\tprogram\twhat\tprogram\twill\tyou code?\tWhy?*\n",
    "\n",
    "    * If I were abe to learn computer program, I'll code a program that will me create my own gadget.\n",
    "    \n",
    "3. *What\twould\tbe\tyour\tprimary\tmotivation\tin\tlearning\tprogramming?*\n",
    "\n",
    "    *  my primary motivaion in learning program is simply because it is useful in my course and also it is fun to do so."
   ]
  },
  {
   "cell_type": "markdown",
   "metadata": {},
   "source": [
    "## The Python Programming Language"
   ]
  },
  {
   "cell_type": "markdown",
   "metadata": {},
   "source": [
    "Python is an example of a high level language; other **high-level languages** you might have heard of are C++, PHP, and Java. There are also **low-level languages**, sometimes referred to as machine languages or assembly languages. Loosely speaking, computers can only execute programs written in low-level languages. Thus, programs written in a high-level language have to be processed before they can run. This extra processing takes some time, which is a small disadvantage of high-level languages. However, the advantages to high-level languages are enormous.\n"
   ]
  },
  {
   "cell_type": "markdown",
   "metadata": {},
   "source": [
    "### Program\n",
    "\n",
    "A **program** is a sequence of instructions that specifies how to perform a computation. The computation might be something as complex as rendering an html page in a web browser or encoding a video and streaming it across the network. It can also be a symbolic computation, such as searching for and replacing text in a document or (strangely enough) compiling a program.\n",
    "\n",
    "1. **_input_** -\n",
    "Get data from the keyboard, a file, or some other device.\n",
    "2. **_output_** - \n",
    "Display data on the screen or send data to a file or other device.\n",
    "3. **_math and logic_** - \n",
    "Perform basic mathematical operations like addition and multiplication and logical\n",
    "operations like and, or, and not.\n",
    "4. **_conditional execution_** - \n",
    "Check for certain conditions and execute the appropriate sequence of statements.\n",
    "5. **_repetition_** -\n",
    "Perform some action repeatedly, usually with some variation\n",
    "\n",
    "\n"
   ]
  },
  {
   "cell_type": "markdown",
   "metadata": {},
   "source": [
    "### Review of Control Structures"
   ]
  },
  {
   "cell_type": "markdown",
   "metadata": {},
   "source": [
    "For Loop Example:"
   ]
  },
  {
   "cell_type": "code",
   "execution_count": 1,
   "metadata": {},
   "outputs": [
    {
     "name": "stdout",
     "output_type": "stream",
     "text": [
      "M\n",
      "A\n",
      "R\n",
      "C\n",
      "H\n"
     ]
    }
   ],
   "source": [
    "for character in \"MARCH\":\n",
    " print(character)"
   ]
  },
  {
   "cell_type": "markdown",
   "metadata": {},
   "source": [
    "While Loop Example:"
   ]
  },
  {
   "cell_type": "code",
   "execution_count": null,
   "metadata": {},
   "outputs": [],
   "source": [
    "grocery_item = \"\"\n",
    "while grocery_item != \"done\":\n",
    " grocery_item = input(\"Please write down an item to add to your grocery list. When you are done writing the list simply type: done\")\n",
    " print(grocery_item)"
   ]
  },
  {
   "cell_type": "markdown",
   "metadata": {},
   "source": [
    "Conditionals Example:"
   ]
  },
  {
   "cell_type": "code",
   "execution_count": null,
   "metadata": {},
   "outputs": [],
   "source": [
    "grocery_item = \"\"\n",
    "grocery_list = []\n",
    "while grocery_item != \"done\":\n",
    "    grocery_item = input(\"Please write down an item to add to your grocery list. When you are done writing the list then simply type: done\")\n",
    "    if grocery_item == 'done':\n",
    "        continue\n",
    "    else:\n",
    "        print(\"adding the item to the list\")\n",
    "        grocery_list.append(grocery_item)\n",
    "print(\"Here is our grocery list:\")\n",
    "print(grocery_list)"
   ]
  },
  {
   "cell_type": "markdown",
   "metadata": {},
   "source": [
    "### Formal and Natural Languages\n",
    "  \n",
    "* **_Natural Languages_** are language that humans speak, such as English, Spanish, Korean, and Filipino.\n",
    "* **_Formal Languages_** are languages that are designed by people for specific applications. For example, the notation that mathematicians use is a formal language that is particularly good at denoting relationships among numbers and symbols. Chemists use a formal language to represent the chemical structure of molecules."
   ]
  },
  {
   "cell_type": "markdown",
   "metadata": {},
   "source": [
    "### Typical First Program"
   ]
  },
  {
   "cell_type": "code",
   "execution_count": null,
   "metadata": {},
   "outputs": [],
   "source": [
    "print(\"Hello, World!\")"
   ]
  },
  {
   "cell_type": "markdown",
   "metadata": {},
   "source": [
    "### Comments\n",
    "\n",
    "* text that is intended only for the human reader - it is completely ignored by the interpreter"
   ]
  },
  {
   "cell_type": "code",
   "execution_count": null,
   "metadata": {},
   "outputs": [],
   "source": [
    "#---------------------------------------------------\n",
    "# This demo program shows off how elegant Python is!\n",
    "# Written by Joe Soap, December 2010.\n",
    "# Anyone may freely copy or modify this program.\n",
    "#---------------------------------------------------\n",
    "\n",
    "print(\"Hello, World!\") # Isn't this easy!\n"
   ]
  },
  {
   "cell_type": "markdown",
   "metadata": {},
   "source": [
    "## *APPLICATIONS*:"
   ]
  },
  {
   "cell_type": "markdown",
   "metadata": {},
   "source": [
    "1. *Why do you think Python is the most applicable programming language for scientific computing?*\n",
    "\n",
    "    * Python is not just one of the most rapidly developing coding languages, but also one that allows for quick prototyping and iterations. This makes the work easier and far more productive for developers.\n",
    "    \n",
    "2. *If\tPython\tcan\tbuild\tanything,\twhere\tdo\tyou\tthink\tPython\tis\tnot\tapplicable\tfor?*\n",
    "\n",
    "    *  Python is not applicable in mobile app and gaming development since it has slow processing speed and has high memory comsumption rate."
   ]
  },
  {
   "cell_type": "markdown",
   "metadata": {},
   "source": [
    "### Exercise 1: Mailing Address (Solved, 9 Lines)\n",
    "\n",
    "Create a program that displays your name and complete mailing address. The address should be printed in the format that is normally used in the area where you live. Your program does not need to read any input from the user."
   ]
  },
  {
   "cell_type": "code",
   "execution_count": null,
   "metadata": {
    "scrolled": true
   },
   "outputs": [],
   "source": [
    "print(\"Complete Name: Miego, Gay Ann Mariss D. \")\n",
    "print(\"Complete Address: Mabini Extension, Brgy. San Miguel, Digos City, Davao del Sur, Philippines\")\n",
    "print(\"Course: Bachelor Science in Electronics Engineering - BSEcE\")\n",
    "print(\"School: University of Southeastern Philippines\")"
   ]
  },
  {
   "cell_type": "markdown",
   "metadata": {},
   "source": [
    "### Exercise \t2:\tArea\tof\ta\tRoom\t(Solved,\t13\tLines)\n",
    "\n",
    "Write a program that asks the user to enter the width and length of a room. Once these values have been read, your program should compute and display the area of the room. The length and the width will be entered as floating-point numbers. Include units in your prompt and output message; either feet or meters, depending on which unit you are more comfortable working with"
   ]
  },
  {
   "cell_type": "code",
   "execution_count": null,
   "metadata": {},
   "outputs": [],
   "source": [
    "#reading input values from user\n",
    "l = float(input(\"Enter the length in meters: \"))\n",
    "w = float(input(\"Enter the width in meters: \"))\n",
    "area = l*w\n",
    "print (\"Area = %.2f\"%area, 'meter squared')"
   ]
  },
  {
   "cell_type": "markdown",
   "metadata": {},
   "source": [
    "### Exercise \t3:\tArithmetic\t(Solved,\t22\tLines)\n",
    "\n",
    "Create a program that reads two integers, a and b, from the user. Your program should\n",
    "compute and display:  \n",
    "\n",
    "    •The sum of a and b  \n",
    "    •The difference when b is subtracted from a  \n",
    "    •The product of a and b  \n",
    "    •The quotient when a is divided by b  \n",
    "    •The remainder when a is divided by b  \n",
    "    •The result of log10 a  \n",
    "    •The result of log ab  \n",
    "   "
   ]
  },
  {
   "cell_type": "code",
   "execution_count": null,
   "metadata": {},
   "outputs": [],
   "source": [
    "import math\n",
    "#Reading two input numbers from user\n",
    "a = int(input(\"Enter the first number: \"))\n",
    "b = int(input(\"Enter the second number: \"))\n",
    "#sum of a and b\n",
    "print(a,\"+\",b,\"=\",a+b)\n",
    "#difference when b is subtracted from a\n",
    "print(a,\"-\",b,\"=\",a-b)\n",
    "#product of a and b\n",
    "print(a,\"*\",b,\"=\",a*b)\n",
    "#quotient when a is divided by b\n",
    "print(a,\"/\",b,\"=\",a/b)\n",
    "#remainder when a is divided by b\n",
    "print(a,\"%\",b,\"=\",a%b)\n",
    "#result of log10 a\n",
    "print (\"math.log10(a) : \", math.log10(a))\n",
    "#result of log10ab\n",
    "print (\"math.log10(ab) : \", math.log10(a)+ math.log10(b))"
   ]
  },
  {
   "cell_type": "markdown",
   "metadata": {},
   "source": [
    "## Exercise 4: Area and Volume (15 lines)\n",
    "\n",
    "Write a program that begins by reading a radius, r, from the user. The program will continue by computing and displaying the area of a circle with radius r and the volume of a sphere with radius r. Use the pi constant in the math module in your\n",
    "calculations."
   ]
  },
  {
   "cell_type": "code",
   "execution_count": null,
   "metadata": {},
   "outputs": [],
   "source": [
    "PI = 3.14\n",
    "#reading of value for radius from user\n",
    "radius = float(input('Please Enter the Radius in meters: '))\n",
    "#computing area of a circle\n",
    "AreaOfCircle =  PI * radius* radius\n",
    "#computing volume of the sphere\n",
    "VolumeOfSphere = (4 / 3) * PI * radius*radius* radius\n",
    "#print the values computed\n",
    "# %.2f to display 2 decimals only\n",
    "print(\"\\n The area of a Circle = %.2f\" %AreaOfCircle,  \"meter squared\")\n",
    "print(\"\\n The Volume of a Sphere = %.2f\" %VolumeOfSphere, \"cubic meter\")"
   ]
  }
 ],
 "metadata": {
  "kernelspec": {
   "display_name": "Python 3",
   "language": "python",
   "name": "python3"
  },
  "language_info": {
   "codemirror_mode": {
    "name": "ipython",
    "version": 3
   },
   "file_extension": ".py",
   "mimetype": "text/x-python",
   "name": "python",
   "nbconvert_exporter": "python",
   "pygments_lexer": "ipython3",
   "version": "3.7.0"
  }
 },
 "nbformat": 4,
 "nbformat_minor": 2
}
